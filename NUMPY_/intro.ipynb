{
 "cells": [
  {
   "cell_type": "code",
   "execution_count": 1,
   "metadata": {},
   "outputs": [],
   "source": [
    "import numpy as np"
   ]
  },
  {
   "cell_type": "code",
   "execution_count": 2,
   "metadata": {},
   "outputs": [
    {
     "name": "stdout",
     "output_type": "stream",
     "text": [
      "List:\n",
      "[1, 2, 3, 4, 5, 6]\n",
      "<class 'list'>\n",
      "numpy array:\n",
      "[1 2 3 4 5 6]\n",
      "<class 'numpy.ndarray'>\n"
     ]
    }
   ],
   "source": [
    "a = [1,2,3,4,5,6]\r\n",
    "print(\"List:\",a,type(a),sep=\"\\n\")\r\n",
    "b = np.array(a)\r\n",
    "print(\"numpy array:\",b,type(b),sep=\"\\n\")"
   ]
  },
  {
   "cell_type": "code",
   "execution_count": 6,
   "metadata": {},
   "outputs": [
    {
     "data": {
      "text/plain": "array([[0, 0, 0],\n       [0, 0, 0]])"
     },
     "execution_count": 6,
     "metadata": {},
     "output_type": "execute_result"
    }
   ],
   "source": [
    "# np.zeros(shape,dtype='float',order='C')\r\n",
    "# order 'C' is row major ordering\r\n",
    "# order 'F' is column major ordering\r\n",
    "np.zeros((2,3),dtype='int',order='C')\r\n",
    "# dtype default is float can use int "
   ]
  },
  {
   "cell_type": "code",
   "execution_count": 7,
   "metadata": {},
   "outputs": [
    {
     "data": {
      "text/plain": "array([[1., 1.],\n       [1., 1.],\n       [1., 1.]])"
     },
     "execution_count": 7,
     "metadata": {},
     "output_type": "execute_result"
    }
   ],
   "source": [
    "np.ones((3,2))"
   ]
  },
  {
   "cell_type": "code",
   "execution_count": 20,
   "metadata": {},
   "outputs": [
    {
     "name": "stdout",
     "output_type": "stream",
     "text": [
      "arange: [0 2 4 6 8]\n",
      "linspace: [ 0 10]\n",
      "[0 0 1 2 3 3 4 5 6 6 7 8 9]\n"
     ]
    },
    {
     "data": {
      "text/plain": "(array([0, 0, 1, 2, 3, 3, 4, 5, 6, 6, 7, 8, 9]), 0.7692307692307693)"
     },
     "execution_count": 20,
     "metadata": {},
     "output_type": "execute_result"
    }
   ],
   "source": [
    "# the difference between arange and linspace is \r\n",
    "print(\"arange:\",np.arange(0,10,2))\r\n",
    "# in arange there will be stepcount\r\n",
    "# in linspace the numbers in ndarray is evenly spaced based on what we give\r\n",
    "# np.linspace(start, stop, num=50, endpoint=True, retstep=False, dtype=None, axis=0) -> tuple | Any\r\n",
    "b=np.linspace(0,10,2,dtype='int')\r\n",
    "print(\"linspace:\",b)\r\n",
    "np.linspace(0, 10, num=13, dtype='int',endpoint=False,retstep=True,axis=0)\r\n",
    "c=np.linspace(0, 10, 13, dtype='int',endpoint=False,axis=-1)\r\n",
    "print(c)\r\n",
    "np.linspace(0, 10, 13, dtype='int',endpoint=False,retstep=True,axis=0)\r\n"
   ]
  },
  {
   "cell_type": "markdown",
   "metadata": {},
   "source": [
    "### like linspace there are \r\n",
    "### geomspace where number evenly spaced on a log scale (a geometric progression)\r\n",
    "### logspacenumber evenly spaced on log scale"
   ]
  },
  {
   "cell_type": "code",
   "execution_count": 22,
   "metadata": {},
   "outputs": [
    {
     "data": {
      "text/plain": "array([[1, 0, 0],\n       [0, 1, 0],\n       [0, 0, 1]])"
     },
     "execution_count": 22,
     "metadata": {},
     "output_type": "execute_result"
    }
   ],
   "source": [
    "# identity matrix\r\n",
    "np.eye(3,dtype='int')"
   ]
  },
  {
   "cell_type": "code",
   "execution_count": 28,
   "metadata": {},
   "outputs": [
    {
     "name": "stdout",
     "output_type": "stream",
     "text": [
      "[[0.29121788 0.37576878 0.03880248]\n",
      " [0.96130757 0.20667185 0.03730002]]\n"
     ]
    },
    {
     "data": {
      "text/plain": "array([0.81604523, 0.09262912, 0.03239999])"
     },
     "execution_count": 28,
     "metadata": {},
     "output_type": "execute_result"
    }
   ],
   "source": [
    "# rand will get values of random numbers of uniform distribution\r\n",
    "# range [0,1)\r\n",
    "print(np.random.rand(2,3))\r\n",
    "np.random.rand(3)"
   ]
  },
  {
   "cell_type": "code",
   "execution_count": 31,
   "metadata": {},
   "outputs": [
    {
     "name": "stdout",
     "output_type": "stream",
     "text": [
      "[-1.75105138  0.46777969 -0.3823016 ]\n",
      "[[-0.4237632   1.04598604 -1.57480138]\n",
      " [-0.80543611 -0.65916484 -0.85044729]]\n"
     ]
    }
   ],
   "source": [
    "# randn is standard normal distribution where mean is 0 and S.D is 1\r\n",
    "# this will have negative numbers too\r\n",
    "print(np.random.randn(3))\r\n",
    "print(np.random.randn(2,3))\r\n"
   ]
  },
  {
   "cell_type": "code",
   "execution_count": 35,
   "metadata": {},
   "outputs": [
    {
     "name": "stdout",
     "output_type": "stream",
     "text": [
      "[[80 84 54]\n",
      " [71 97 48]]\n"
     ]
    },
    {
     "data": {
      "text/plain": "array([68, 91, 82, 17, 15])"
     },
     "execution_count": 35,
     "metadata": {},
     "output_type": "execute_result"
    }
   ],
   "source": [
    "# np.random.randint(low, high=..., size=..., dtype=...)\r\n",
    "print(np.random.randint(0, 101,(2,3)))\r\n",
    "np.random.randint(0,101,5)\r\n"
   ]
  },
  {
   "cell_type": "markdown",
   "metadata": {},
   "source": [
    "## random.seed is used to get the same values in case u need it again\r\n",
    "### see below three cells"
   ]
  },
  {
   "cell_type": "code",
   "execution_count": 39,
   "metadata": {},
   "outputs": [
    {
     "name": "stdout",
     "output_type": "stream",
     "text": [
      "hbc [0.37454012 0.95071431 0.73199394 0.59865848]\n"
     ]
    },
    {
     "data": {
      "text/plain": "array([0.15601864, 0.15599452, 0.05808361, 0.86617615])"
     },
     "execution_count": 39,
     "metadata": {},
     "output_type": "execute_result"
    }
   ],
   "source": [
    "np.random.seed(42)\r\n",
    "np.random.rand(4)"
   ]
  },
  {
   "cell_type": "code",
   "execution_count": 37,
   "metadata": {},
   "outputs": [
    {
     "data": {
      "text/plain": "array([0.15601864, 0.15599452, 0.05808361, 0.86617615])"
     },
     "execution_count": 37,
     "metadata": {},
     "output_type": "execute_result"
    }
   ],
   "source": [
    "np.random.rand(4)\r\n"
   ]
  },
  {
   "cell_type": "code",
   "execution_count": 40,
   "metadata": {},
   "outputs": [
    {
     "data": {
      "text/plain": "array([0.37454012, 0.95071431, 0.73199394, 0.59865848])"
     },
     "execution_count": 40,
     "metadata": {},
     "output_type": "execute_result"
    }
   ],
   "source": [
    "np.random.seed(42)\r\n",
    "np.random.rand(4)\r\n",
    "# the below value is same as the output of above cell i.e first cell of random.seed"
   ]
  },
  {
   "cell_type": "code",
   "execution_count": 41,
   "metadata": {},
   "outputs": [
    {
     "data": {
      "text/plain": "array([[ 0,  1,  2,  3,  4],\n       [ 5,  6,  7,  8,  9],\n       [10, 11, 12, 13, 14],\n       [15, 16, 17, 18, 19],\n       [20, 21, 22, 23, 24]])"
     },
     "execution_count": 41,
     "metadata": {},
     "output_type": "execute_result"
    }
   ],
   "source": [
    "arr = np.arange(0,25)\r\n",
    "arr.reshape(5,5)"
   ]
  },
  {
   "cell_type": "code",
   "execution_count": 44,
   "metadata": {},
   "outputs": [
    {
     "name": "stdout",
     "output_type": "stream",
     "text": [
      "[57 21 88 48 90 58 41 91 59 79]\n",
      "91\n"
     ]
    },
    {
     "data": {
      "text/plain": "21"
     },
     "execution_count": 44,
     "metadata": {},
     "output_type": "execute_result"
    }
   ],
   "source": [
    "randarray = np.random.randint(0,101,10)\r\n",
    "print(randarray)\r\n",
    "print(randarray.max())\r\n",
    "randarray.min()"
   ]
  },
  {
   "cell_type": "code",
   "execution_count": 46,
   "metadata": {},
   "outputs": [
    {
     "name": "stdout",
     "output_type": "stream",
     "text": [
      "1\n"
     ]
    },
    {
     "data": {
      "text/plain": "7"
     },
     "execution_count": 46,
     "metadata": {},
     "output_type": "execute_result"
    }
   ],
   "source": [
    "# the argmax gives the index location of the max value\r\n",
    "print(randarray.argmin())\r\n",
    "randarray.argmax()\r\n"
   ]
  }
 ],
 "metadata": {
  "kernelspec": {
   "display_name": "Python 3",
   "language": "python",
   "name": "python3"
  },
  "language_info": {
   "codemirror_mode": {
    "name": "ipython",
    "version": 3
   },
   "file_extension": ".py",
   "mimetype": "text/x-python",
   "name": "python",
   "nbconvert_exporter": "python",
   "pygments_lexer": "ipython3",
   "version": "3.8.5"
  },
  "orig_nbformat": 2
 },
 "nbformat": 4,
 "nbformat_minor": 2
}